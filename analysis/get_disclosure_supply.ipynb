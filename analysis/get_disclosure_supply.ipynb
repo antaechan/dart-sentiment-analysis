{
 "cells": [
  {
   "cell_type": "code",
   "execution_count": 1,
   "id": "c92f5317",
   "metadata": {},
   "outputs": [
    {
     "name": "stdout",
     "output_type": "stream",
     "text": [
      "프로젝트 루트 경로: /Users/taechanan/dart-sentiment-analysis\n",
      "dags 폴더 존재 확인: True\n"
     ]
    }
   ],
   "source": [
    "# 대안 방법: 직접 경로 지정\n",
    "import sys\n",
    "import os\n",
    "\n",
    "# 프로젝트 루트 디렉토리를 직접 지정\n",
    "project_root = \"/Users/taechanan/dart-sentiment-analysis\"\n",
    "if project_root not in sys.path:\n",
    "    sys.path.append(project_root)\n",
    "\n",
    "print(f\"프로젝트 루트 경로: {project_root}\")\n",
    "print(f\"dags 폴더 존재 확인: {os.path.exists(os.path.join(project_root, 'dags'))}\")\n",
    "\n"
   ]
  },
  {
   "cell_type": "code",
   "execution_count": 3,
   "id": "d7929c24",
   "metadata": {},
   "outputs": [
    {
     "name": "stdout",
     "output_type": "stream",
     "text": [
      "✅ 모듈 import 성공!\n",
      "1. 판매ㆍ공급계약 구분: 공사수주\n",
      "- 체결계약명: 대명2동 명덕지구 주택재개발정비사업\n",
      "2. 계약내역\n",
      "계약금액(원): 237,082,257,380\n",
      "최근매출액(원): 7,631,650,898,582\n",
      "매출액대비(%): 3.11\n",
      "대규모법인여부: 해당\n",
      "3. 계약상대: 대명2동 명덕지구 주택재개발정비사업조합\n",
      "- 회사와의 관계: -\n",
      "4. 판매ㆍ공급지역: 대구광역시 남구 대명2동 2013번지 일대\n",
      "5. 계약기간\n",
      "시작일: -\n",
      "종료일: -\n",
      "6. 주요 계약조건: -\n",
      "7. 계약(수주)일자: 2022-06-30\n",
      "8. 공시유보 관련내용\n",
      "유보사유: -\n",
      "유보기한: -\n",
      "9. 기타 투자판단과 관련한 중요사항\n",
      "- 상기 계약금액은 총 계약금액(3,951억원/VAT 제외) 중 당사 시공지분(60%)에 해당하는 금액입니다.\n",
      "- 상기 최근매출액은 2021년말 연결재무제표 기준입니다.\n",
      "※ 본 공사의 최초 계약 당시(2019년 9월) 분할 전 회사인 대림산업은 공시 기준금액에 미달함에 따라 공시를 진행하지 않았으나, 금회 변경계약에 따른 도급금액 증가와 회사 분할에 따른 공시 기준금액 변경으로 인하여 당해 공시를 진행합니다.\n",
      "- 상기 계약기간은 실착공일로 부터 37개월입니다.\n",
      "- 상기 계약금액, 계약기간 등은 공사 진행상황에 따라 변동될 수 있습니다.\n",
      "- 공사개요 : 지하2층, 지상35층 아파트 17개동 1,758세대 및 부대복리시설\n",
      "※ 관련공시: -\n"
     ]
    }
   ],
   "source": [
    "\n",
    "from dags.get_disclosure_supply import extract_disclosure_text\n",
    "print(\"✅ 모듈 import 성공!\")\n",
    "\n",
    "kind_url = \"https://kind.krx.co.kr/common/disclsviewer.do?method=search&acptno=20220630001042&docno=&viewerhost=&viewerport=\"\n",
    "print(extract_disclosure_text(kind_url))\n"
   ]
  },
  {
   "cell_type": "code",
   "execution_count": null,
   "id": "dc1d477e",
   "metadata": {},
   "outputs": [],
   "source": []
  },
  {
   "cell_type": "code",
   "execution_count": null,
   "id": "f1b1ff79",
   "metadata": {},
   "outputs": [],
   "source": []
  },
  {
   "cell_type": "code",
   "execution_count": null,
   "id": "884a253b",
   "metadata": {},
   "outputs": [],
   "source": []
  }
 ],
 "metadata": {
  "kernelspec": {
   "display_name": "venv",
   "language": "python",
   "name": "python3"
  },
  "language_info": {
   "codemirror_mode": {
    "name": "ipython",
    "version": 3
   },
   "file_extension": ".py",
   "mimetype": "text/x-python",
   "name": "python",
   "nbconvert_exporter": "python",
   "pygments_lexer": "ipython3",
   "version": "3.13.7"
  }
 },
 "nbformat": 4,
 "nbformat_minor": 5
}
