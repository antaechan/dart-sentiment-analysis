{
 "cells": [
  {
   "cell_type": "code",
   "execution_count": 1,
   "metadata": {},
   "outputs": [],
   "source": [
    "import requests\n",
    "import zipfile\n",
    "import io\n",
    "import os\n",
    "from dotenv import load_dotenv\n",
    "\n",
    "load_dotenv()\n",
    "\n",
    "def get_and_extract_document(api_key: str, rcept_no: str, extract_path: str):\n",
    "    \"\"\"\n",
    "    공시서류원본파일 다운로드 & CP949 인코딩으로 압축 해제\n",
    "    \n",
    "    :param api_key: 발급받은 API 인증키 (40자리)\n",
    "    :param rcept_no: 접수번호 (14자리)\n",
    "    :param extract_path: 압축 풀 경로\n",
    "    \"\"\"\n",
    "    url = \"https://opendart.fss.or.kr/api/document.xml\"\n",
    "    params = {\n",
    "        \"crtfc_key\": api_key,\n",
    "        \"rcept_no\": rcept_no\n",
    "    }\n",
    "\n",
    "    # 디렉토리가 없으면 생성\n",
    "    os.makedirs(extract_path, exist_ok=True)\n",
    "\n",
    "    # ZIP 다운로드\n",
    "    response = requests.get(url, params=params)\n",
    "    if response.status_code != 200:\n",
    "        raise Exception(f\"HTTP 오류: {response.status_code}\")\n",
    "\n",
    "    # 메모리에서 ZIP 열기\n",
    "    with zipfile.ZipFile(io.BytesIO(response.content)) as zf:\n",
    "        for info in zf.infolist():\n",
    "            # 파일명 CP949 복원\n",
    "            filename = info.filename.encode('cp437').decode('cp949')\n",
    "            # 파일 내용 읽기\n",
    "            with zf.open(info) as source, open(f\"{extract_path}/{filename}\", \"wb\") as target:\n",
    "                target.write(source.read())\n",
    "    print(f\"압축이 해제되었습니다: {extract_path}\")\n",
    "\n",
    "# 사용 예시\n",
    "# get_and_extract_document(\"발급받은_API_KEY\", \"20250112000001\", \"./docs\")\n"
   ]
  },
  {
   "cell_type": "code",
   "execution_count": 2,
   "metadata": {},
   "outputs": [
    {
     "name": "stdout",
     "output_type": "stream",
     "text": [
      "압축이 해제되었습니다: ./docs\n"
     ]
    }
   ],
   "source": [
    "DART_API_KEY = os.getenv(\"DART_API_KEY\")\n",
    "get_and_extract_document(DART_API_KEY, \"20250814002573\", \"./docs\")"
   ]
  },
  {
   "cell_type": "code",
   "execution_count": 3,
   "metadata": {},
   "outputs": [],
   "source": [
    "import pandas as pd\n",
    "import requests\n",
    "from typing import Optional\n",
    "\n",
    "def fetch_piic_decsn_df(\n",
    "    api_key: str,\n",
    "    corp_code: str,\n",
    "    bgn_de: str,\n",
    "    end_de: str,\n",
    "    *,\n",
    "    timeout: int = 15,\n",
    "    save_path: Optional[str] = None\n",
    ") -> pd.DataFrame:\n",
    "    \"\"\"\n",
    "    DART '유상증자 결정' API 호출 후 응답 list를 DataFrame으로 반환.\n",
    "\n",
    "    Parameters\n",
    "    ----------\n",
    "    api_key : str\n",
    "        DART API 인증키(40자리)\n",
    "    corp_code : str\n",
    "        공시대상회사의 고유번호(8자리)\n",
    "    bgn_de : str\n",
    "        검색 시작일 (YYYYMMDD)\n",
    "    end_de : str\n",
    "        검색 종료일 (YYYYMMDD)\n",
    "    timeout : int, optional\n",
    "        요청 타임아웃(초), 기본 15\n",
    "    save_path : str | None, optional\n",
    "        CSV 저장 경로. 지정 시 UTF-8 BOM으로 저장.\n",
    "\n",
    "    Returns\n",
    "    -------\n",
    "    pd.DataFrame\n",
    "        공시 리스트 DataFrame\n",
    "    \"\"\"\n",
    "    url = \"https://opendart.fss.or.kr/api/pifricDecsn.json\"\n",
    "    params = {\n",
    "        \"crtfc_key\": api_key,\n",
    "        \"corp_code\": corp_code,\n",
    "        \"bgn_de\": bgn_de,\n",
    "        \"end_de\": end_de\n",
    "    }\n",
    "\n",
    "    resp = requests.get(url, params=params, timeout=timeout)\n",
    "    resp.raise_for_status()\n",
    "    data = resp.json()\n",
    "\n",
    "    if str(data.get(\"status\")) != \"000\":\n",
    "        raise ValueError(f\"DART API 오류: {data.get('message')} (status={data.get('status')})\")\n",
    "\n",
    "    items = data.get(\"list\", [])\n",
    "    df = pd.DataFrame(items)\n",
    "\n",
    "    # CSV 저장 옵션\n",
    "    if save_path:\n",
    "        df.to_csv(save_path, index=False, encoding=\"utf-8-sig\")\n",
    "\n",
    "    return df\n",
    "\n",
    "\n"
   ]
  },
  {
   "cell_type": "code",
   "execution_count": 4,
   "metadata": {},
   "outputs": [
    {
     "ename": "ValueError",
     "evalue": "DART API 오류: 조회된 데이타가 없습니다. (status=013)",
     "output_type": "error",
     "traceback": [
      "\u001b[31m---------------------------------------------------------------------------\u001b[39m",
      "\u001b[31mValueError\u001b[39m                                Traceback (most recent call last)",
      "\u001b[36mCell\u001b[39m\u001b[36m \u001b[39m\u001b[32mIn[4]\u001b[39m\u001b[32m, line 1\u001b[39m\n\u001b[32m----> \u001b[39m\u001b[32m1\u001b[39m df = \u001b[43mfetch_piic_decsn_df\u001b[49m\u001b[43m(\u001b[49m\n\u001b[32m      2\u001b[39m \u001b[43m    \u001b[49m\u001b[43mapi_key\u001b[49m\u001b[43m=\u001b[49m\u001b[43mDART_API_KEY\u001b[49m\u001b[43m,\u001b[49m\n\u001b[32m      3\u001b[39m \u001b[43m    \u001b[49m\u001b[43mcorp_code\u001b[49m\u001b[43m=\u001b[49m\u001b[33;43m\"\u001b[39;49m\u001b[33;43m01109937\u001b[39;49m\u001b[33;43m\"\u001b[39;49m\u001b[43m,\u001b[49m\n\u001b[32m      4\u001b[39m \u001b[43m    \u001b[49m\u001b[43mbgn_de\u001b[49m\u001b[43m=\u001b[49m\u001b[33;43m\"\u001b[39;49m\u001b[33;43m20150801\u001b[39;49m\u001b[33;43m\"\u001b[39;49m\u001b[43m,\u001b[49m\n\u001b[32m      5\u001b[39m \u001b[43m    \u001b[49m\u001b[43mend_de\u001b[49m\u001b[43m=\u001b[49m\u001b[33;43m\"\u001b[39;49m\u001b[33;43m20151231\u001b[39;49m\u001b[33;43m\"\u001b[39;49m\u001b[43m,\u001b[49m\n\u001b[32m      6\u001b[39m \u001b[43m    \u001b[49m\u001b[43msave_path\u001b[49m\u001b[43m=\u001b[49m\u001b[33;43m\"\u001b[39;49m\u001b[33;43mpiicDecsn.csv\u001b[39;49m\u001b[33;43m\"\u001b[39;49m\n\u001b[32m      7\u001b[39m \u001b[43m)\u001b[49m\n",
      "\u001b[36mCell\u001b[39m\u001b[36m \u001b[39m\u001b[32mIn[3]\u001b[39m\u001b[32m, line 50\u001b[39m, in \u001b[36mfetch_piic_decsn_df\u001b[39m\u001b[34m(api_key, corp_code, bgn_de, end_de, timeout, save_path)\u001b[39m\n\u001b[32m     47\u001b[39m data = resp.json()\n\u001b[32m     49\u001b[39m \u001b[38;5;28;01mif\u001b[39;00m \u001b[38;5;28mstr\u001b[39m(data.get(\u001b[33m\"\u001b[39m\u001b[33mstatus\u001b[39m\u001b[33m\"\u001b[39m)) != \u001b[33m\"\u001b[39m\u001b[33m000\u001b[39m\u001b[33m\"\u001b[39m:\n\u001b[32m---> \u001b[39m\u001b[32m50\u001b[39m     \u001b[38;5;28;01mraise\u001b[39;00m \u001b[38;5;167;01mValueError\u001b[39;00m(\u001b[33mf\u001b[39m\u001b[33m\"\u001b[39m\u001b[33mDART API 오류: \u001b[39m\u001b[38;5;132;01m{\u001b[39;00mdata.get(\u001b[33m'\u001b[39m\u001b[33mmessage\u001b[39m\u001b[33m'\u001b[39m)\u001b[38;5;132;01m}\u001b[39;00m\u001b[33m (status=\u001b[39m\u001b[38;5;132;01m{\u001b[39;00mdata.get(\u001b[33m'\u001b[39m\u001b[33mstatus\u001b[39m\u001b[33m'\u001b[39m)\u001b[38;5;132;01m}\u001b[39;00m\u001b[33m)\u001b[39m\u001b[33m\"\u001b[39m)\n\u001b[32m     52\u001b[39m items = data.get(\u001b[33m\"\u001b[39m\u001b[33mlist\u001b[39m\u001b[33m\"\u001b[39m, [])\n\u001b[32m     53\u001b[39m df = pd.DataFrame(items)\n",
      "\u001b[31mValueError\u001b[39m: DART API 오류: 조회된 데이타가 없습니다. (status=013)"
     ]
    }
   ],
   "source": [
    "\n",
    "df = fetch_piic_decsn_df(\n",
    "    api_key=DART_API_KEY,\n",
    "    corp_code=\"01109937\",\n",
    "    bgn_de=\"20150801\",\n",
    "    end_de=\"20151231\",\n",
    "    save_path=\"piicDecsn.csv\"\n",
    ")\n"
   ]
  },
  {
   "cell_type": "code",
   "execution_count": null,
   "metadata": {},
   "outputs": [
    {
     "ename": "NameError",
     "evalue": "name 'df' is not defined",
     "output_type": "error",
     "traceback": [
      "\u001b[31m---------------------------------------------------------------------------\u001b[39m",
      "\u001b[31mNameError\u001b[39m                                 Traceback (most recent call last)",
      "\u001b[36mCell\u001b[39m\u001b[36m \u001b[39m\u001b[32mIn[5]\u001b[39m\u001b[32m, line 1\u001b[39m\n\u001b[32m----> \u001b[39m\u001b[32m1\u001b[39m \u001b[43mdf\u001b[49m.head()\n",
      "\u001b[31mNameError\u001b[39m: name 'df' is not defined"
     ]
    }
   ],
   "source": [
    "df.head()"
   ]
  },
  {
   "cell_type": "code",
   "execution_count": null,
   "metadata": {},
   "outputs": [],
   "source": [
    "import io\n",
    "import zipfile\n",
    "import requests\n",
    "import pandas as pd\n",
    "import xml.etree.ElementTree as ET\n",
    "from typing import Optional\n",
    "\n",
    "def fetch_corp_codes_df(\n",
    "    api_key: str,\n",
    "    *,\n",
    "    timeout: int = 30,\n",
    "    save_csv_path: Optional[str] = None,\n",
    "    save_zip_path: Optional[str] = None,   # ← ZIP 저장 옵션 추가\n",
    "    save_xml_path: Optional[str] = None    # ← XML도 저장하고 싶을 때\n",
    ") -> pd.DataFrame:\n",
    "    \"\"\"\n",
    "    DART corpCode.xml(zip) 내려받아 XML 파싱 → DataFrame 반환.\n",
    "    옵션으로 ZIP/내부 XML/CSV 저장 가능.\n",
    "    \"\"\"\n",
    "    url = \"https://opendart.fss.or.kr/api/corpCode.xml\"\n",
    "    params = {\"crtfc_key\": api_key}\n",
    "\n",
    "    resp = requests.get(url, params=params, timeout=timeout)\n",
    "    resp.raise_for_status()\n",
    "    content = resp.content\n",
    "\n",
    "    # 먼저 ZIP 시도\n",
    "    try:\n",
    "        zip_bytes = io.BytesIO(content)\n",
    "        with zipfile.ZipFile(zip_bytes) as zf:\n",
    "            xml_names = [n for n in zf.namelist() if n.lower().endswith(\".xml\")]\n",
    "            if not xml_names:\n",
    "                raise ValueError(\"ZIP 내부에 XML 파일이 없습니다.\")\n",
    "            # ZIP 저장 옵션\n",
    "            if save_zip_path:\n",
    "                with open(save_zip_path, \"wb\") as f:\n",
    "                    f.write(zip_bytes.getvalue())\n",
    "\n",
    "            with zf.open(xml_names[0]) as xf:\n",
    "                xml_bytes = xf.read()\n",
    "    except zipfile.BadZipFile:\n",
    "        # ZIP이 아니면 보통 인증키 오류 등 에러 응답\n",
    "        text = content.decode(\"utf-8\", errors=\"ignore\")\n",
    "        raise ValueError(f\"ZIP이 아닌 응답입니다. 인증키/쿼리를 확인하세요. 응답 예시: {text[:300]}\")\n",
    "\n",
    "    # XML 저장 옵션\n",
    "    if save_xml_path:\n",
    "        with open(save_xml_path, \"wb\") as f:\n",
    "            f.write(xml_bytes)\n",
    "\n",
    "    # XML 파싱 → DataFrame\n",
    "    try:\n",
    "        root = ET.fromstring(xml_bytes)\n",
    "    except ET.ParseError:\n",
    "        xml_text = xml_bytes.decode(\"utf-8\", errors=\"ignore\")\n",
    "        root = ET.fromstring(xml_text)\n",
    "\n",
    "    status = _find_text(root, \".//status\")\n",
    "    message = _find_text(root, \".//message\")\n",
    "    if status and status != \"000\":\n",
    "        raise ValueError(f\"DART API 오류(status={status}): {message}\")\n",
    "\n",
    "    corps = root.findall(\".//list\")\n",
    "    rows = []\n",
    "    for c in corps:\n",
    "        rows.append({\n",
    "            \"corp_code\": _find_text(c, \"corp_code\"),\n",
    "            \"corp_name\": _find_text(c, \"corp_name\"),\n",
    "            \"corp_eng_name\": _find_text(c, \"corp_eng_name\"),\n",
    "            \"stock_code\": _find_text(c, \"stock_code\"),\n",
    "            \"modify_date\": _find_text(c, \"modify_date\"),\n",
    "        })\n",
    "    df = pd.DataFrame(rows, columns=[\"corp_code\",\"corp_name\",\"corp_eng_name\",\"stock_code\",\"modify_date\"])\n",
    "\n",
    "    # CSV 저장 옵션\n",
    "    if save_csv_path:\n",
    "        df.to_csv(save_csv_path, index=False, encoding=\"utf-8-sig\")\n",
    "\n",
    "    return df\n",
    "\n",
    "\n",
    "def _find_text(root: ET.Element, path: str) -> str:\n",
    "    el = root.find(path)\n",
    "    return el.text.strip() if (el is not None and el.text is not None) else \"\""
   ]
  },
  {
   "cell_type": "code",
   "execution_count": null,
   "metadata": {},
   "outputs": [],
   "source": [
    "from dotenv import load_dotenv\n",
    "import os\n",
    "load_dotenv()\n",
    "\n",
    "DART_API_KEY = os.getenv(\"DART_API_KEY\")\n",
    "\n",
    "df = fetch_corp_codes_df(\n",
    "    api_key=DART_API_KEY,\n",
    "    save_zip_path=None,\n",
    "    save_xml_path=None,\n",
    "    save_csv_path=\"corp_codes.csv\"\n",
    ")\n"
   ]
  },
  {
   "cell_type": "code",
   "execution_count": null,
   "metadata": {},
   "outputs": [],
   "source": [
    "import FinanceDataReader as fdr\n",
    "\n",
    "df = fdr.StockListing(\"KRX\")\n",
    "df.to_csv(\"krx_listing.csv\", index=False)"
   ]
  },
  {
   "cell_type": "code",
   "execution_count": null,
   "metadata": {},
   "outputs": [
    {
     "name": "stdout",
     "output_type": "stream",
     "text": [
      "삼성전자 종목 정보:\n",
      "005930\n",
      "KR7005930003\n"
     ]
    }
   ],
   "source": [
    "KRX_LISTING = fdr.StockListing(\"KRX\")[[\"Code\", \"ISU_CD\", \"Name\", \"Market\"]]\n",
    "# 삼성전자 종목 정보 조회\n",
    "\n",
    "print(\"삼성전자 종목 정보:\")\n",
    "print(short_code)\n",
    "print(stock_code)\n"
   ]
  }
 ],
 "metadata": {
  "kernelspec": {
   "display_name": "venv",
   "language": "python",
   "name": "python3"
  },
  "language_info": {
   "codemirror_mode": {
    "name": "ipython",
    "version": 3
   },
   "file_extension": ".py",
   "mimetype": "text/x-python",
   "name": "python",
   "nbconvert_exporter": "python",
   "pygments_lexer": "ipython3",
   "version": "3.13.5"
  }
 },
 "nbformat": 4,
 "nbformat_minor": 2
}
