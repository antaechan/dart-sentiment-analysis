{
 "cells": [
  {
   "cell_type": "code",
   "execution_count": 15,
   "metadata": {},
   "outputs": [],
   "source": [
    "import requests\n",
    "import zipfile\n",
    "import io\n",
    "import os\n",
    "from dotenv import load_dotenv\n",
    "\n",
    "load_dotenv()\n",
    "\n",
    "def get_and_extract_document(api_key: str, rcept_no: str, extract_path: str):\n",
    "    \"\"\"\n",
    "    공시서류원본파일 다운로드 & CP949 인코딩으로 압축 해제\n",
    "    \n",
    "    :param api_key: 발급받은 API 인증키 (40자리)\n",
    "    :param rcept_no: 접수번호 (14자리)\n",
    "    :param extract_path: 압축 풀 경로\n",
    "    \"\"\"\n",
    "    url = \"https://opendart.fss.or.kr/api/document.xml\"\n",
    "    params = {\n",
    "        \"crtfc_key\": api_key,\n",
    "        \"rcept_no\": rcept_no\n",
    "    }\n",
    "\n",
    "    # 디렉토리가 없으면 생성\n",
    "    os.makedirs(extract_path, exist_ok=True)\n",
    "\n",
    "    # ZIP 다운로드\n",
    "    response = requests.get(url, params=params)\n",
    "    if response.status_code != 200:\n",
    "        raise Exception(f\"HTTP 오류: {response.status_code}\")\n",
    "\n",
    "    # 메모리에서 ZIP 열기\n",
    "    with zipfile.ZipFile(io.BytesIO(response.content)) as zf:\n",
    "        for info in zf.infolist():\n",
    "            # 파일명 CP949 복원\n",
    "            filename = info.filename.encode('cp437').decode('cp949')\n",
    "            # 파일 내용 읽기\n",
    "            with zf.open(info) as source, open(f\"{extract_path}/{filename}\", \"wb\") as target:\n",
    "                target.write(source.read())\n",
    "    print(f\"압축이 해제되었습니다: {extract_path}\")\n",
    "\n",
    "# 사용 예시\n",
    "# get_and_extract_document(\"발급받은_API_KEY\", \"20250112000001\", \"./docs\")\n"
   ]
  },
  {
   "cell_type": "code",
   "execution_count": 16,
   "metadata": {},
   "outputs": [
    {
     "name": "stdout",
     "output_type": "stream",
     "text": [
      "압축이 해제되었습니다: ./docs\n"
     ]
    }
   ],
   "source": [
    "DART_API_KEY = os.getenv(\"DART_API_KEY\")\n",
    "get_and_extract_document(DART_API_KEY, \"20190401004781\", \"./docs\")"
   ]
  }
 ],
 "metadata": {
  "kernelspec": {
   "display_name": "venv",
   "language": "python",
   "name": "python3"
  },
  "language_info": {
   "codemirror_mode": {
    "name": "ipython",
    "version": 3
   },
   "file_extension": ".py",
   "mimetype": "text/x-python",
   "name": "python",
   "nbconvert_exporter": "python",
   "pygments_lexer": "ipython3",
   "version": "3.13.3"
  }
 },
 "nbformat": 4,
 "nbformat_minor": 2
}
